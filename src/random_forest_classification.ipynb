{
 "cells": [
  {
   "cell_type": "code",
   "execution_count": 1,
   "metadata": {},
   "outputs": [],
   "source": [
    "import pandas as pd\n",
    "from sklearn.model_selection import train_test_split, cross_val_score, GridSearchCV\n",
    "from sklearn.ensemble import RandomForestClassifier\n",
    "from sklearn.metrics import confusion_matrix, recall_score, precision_score, f1_score, accuracy_score\n",
    "from imblearn.under_sampling import TomekLinks\n",
    "from imblearn.over_sampling import SMOTE\n",
    "from imblearn.combine import SMOTETomek\n",
    "from imblearn.pipeline import make_pipeline\n",
    "from data_preprocessing import get_cleaned_data\n"
   ]
  },
  {
   "cell_type": "code",
   "execution_count": 26,
   "metadata": {},
   "outputs": [],
   "source": [
    "data = get_cleaned_data(convert_categorical=True)"
   ]
  },
  {
   "cell_type": "code",
   "execution_count": 27,
   "metadata": {},
   "outputs": [],
   "source": [
    "# Take the first 3000 rows as data\n",
    "data = data[:100_000]\n"
   ]
  },
  {
   "cell_type": "code",
   "execution_count": 28,
   "metadata": {},
   "outputs": [],
   "source": [
    "# # Normalize the data to have values between 0 and 1\n",
    "# data = (data - data.min()) / (data.max() - data.min())"
   ]
  },
  {
   "cell_type": "code",
   "execution_count": 29,
   "metadata": {},
   "outputs": [
    {
     "name": "stdout",
     "output_type": "stream",
     "text": [
      "8093\n"
     ]
    }
   ],
   "source": [
    "# print the count of target = 1\n",
    "print(data[data['TARGET'] == 1][\"TARGET\"].count())"
   ]
  },
  {
   "cell_type": "code",
   "execution_count": 37,
   "metadata": {},
   "outputs": [],
   "source": [
    "# split data into training and testing sets\n",
    "# X_train, X_test, y_train, y_test = train_test_split(X, y, test_size=0.1, random_state=42)\n",
    "\n",
    "# train, test = train_test_split(data, test_size=0.1)\n",
    "\n",
    "X_train, X_test, y_train, y_test = train_test_split(data.drop(columns=[\"TARGET\"]), data[\"TARGET\"], test_size=0.1, random_state=42)"
   ]
  },
  {
   "cell_type": "code",
   "execution_count": 31,
   "metadata": {},
   "outputs": [],
   "source": [
    "\n",
    "# split data into features and labels\n",
    "train_features = train.drop(columns=[\"TARGET\"])\n",
    "train_labels = train[\"TARGET\"]\n",
    "\n",
    "test_features = test.drop(columns=[\"TARGET\"])\n",
    "test_labels = test[\"TARGET\"]"
   ]
  },
  {
   "cell_type": "code",
   "execution_count": 32,
   "metadata": {},
   "outputs": [
    {
     "name": "stdout",
     "output_type": "stream",
     "text": [
      "Resampled dataset shape: TARGET\n",
      "0    79349\n",
      "1     7313\n",
      "Name: count, dtype: int64\n"
     ]
    }
   ],
   "source": [
    "tomek = TomekLinks()\n",
    "X_train_tomek, y_train_tomek = tomek.fit_resample(train_features, train_labels)\n",
    "print('Resampled dataset shape:', y_train_tomek.value_counts())"
   ]
  },
  {
   "cell_type": "code",
   "execution_count": 33,
   "metadata": {},
   "outputs": [],
   "source": [
    "smote_tomek = SMOTETomek(tomek=TomekLinks(sampling_strategy='majority'))\n",
    "rf_classifier = RandomForestClassifier(n_estimators=100, random_state=13)\n",
    "pipeline = make_pipeline(smote_tomek, rf_classifier)"
   ]
  },
  {
   "cell_type": "code",
   "execution_count": 34,
   "metadata": {},
   "outputs": [
    {
     "name": "stdout",
     "output_type": "stream",
     "text": [
      "Cross Validation Recall Scores: [0.02188782 0.02051984 0.03212577 0.01913876 0.0252905 ]\n",
      "Average Cross Validation Recall score: 0.023792536932431815\n"
     ]
    }
   ],
   "source": [
    "recall_scores = cross_val_score(pipeline, train_features, train_labels, scoring='recall', cv=5)\n",
    "print(\"Cross Validation Recall Scores:\", recall_scores)\n",
    "print(\"Average Cross Validation Recall score:\", recall_scores.mean())\n"
   ]
  },
  {
   "cell_type": "code",
   "execution_count": 35,
   "metadata": {},
   "outputs": [],
   "source": [
    "pipeline.fit(train_features, train_labels)\n",
    "y_pred = pipeline.predict(test_features)"
   ]
  },
  {
   "cell_type": "code",
   "execution_count": 36,
   "metadata": {},
   "outputs": [
    {
     "name": "stdout",
     "output_type": "stream",
     "text": [
      "Confusion Matrix:\n",
      " [[9126   94]\n",
      " [ 764   16]]\n",
      "Recall: 0.020512820512820513\n",
      "Precision: 0.14545454545454545\n",
      "F1 Score: 0.03595505617977528\n",
      "Accuracy: 0.9142\n",
      "  Random Forest with    Recall  Precision  F1 Score  Accuracy\n",
      "0      SMOTE + Tomek  0.020513   0.145455  0.035955    0.9142\n"
     ]
    }
   ],
   "source": [
    "# Confusion matrix and other scores\n",
    "# cm = confusion_matrix(y_test, y_pred)\n",
    "# recall = recall_score(y_test, y_pred)\n",
    "# precision = precision_score(y_test, y_pred)\n",
    "# f1 = f1_score(y_test, y_pred)\n",
    "# accuracy = accuracy_score(y_test, y_pred)\n",
    "cm = confusion_matrix(test_labels, y_pred)\n",
    "recall = recall_score(test_labels, y_pred)\n",
    "precision = precision_score(test_labels, y_pred)\n",
    "f1 = f1_score(test_labels, y_pred)\n",
    "accuracy = accuracy_score(test_labels, y_pred)\n",
    "\n",
    "print(\"Confusion Matrix:\\n\", cm)\n",
    "print(\"Recall:\", recall)\n",
    "print(\"Precision:\", precision)\n",
    "print(\"F1 Score:\", f1)\n",
    "print(\"Accuracy:\", accuracy)\n",
    "\n",
    "# DataFrame to hold the scores\n",
    "scores_df = pd.DataFrame({\n",
    "    'Random Forest with': ['SMOTE + Tomek'],\n",
    "    'Recall': [recall],\n",
    "    'Precision': [precision],\n",
    "    'F1 Score': [f1],\n",
    "    'Accuracy': [accuracy]\n",
    "})\n",
    "print(scores_df)"
   ]
  }
 ],
 "metadata": {
  "kernelspec": {
   "display_name": "Python 3",
   "language": "python",
   "name": "python3"
  },
  "language_info": {
   "codemirror_mode": {
    "name": "ipython",
    "version": 3
   },
   "file_extension": ".py",
   "mimetype": "text/x-python",
   "name": "python",
   "nbconvert_exporter": "python",
   "pygments_lexer": "ipython3",
   "version": "3.10.2"
  }
 },
 "nbformat": 4,
 "nbformat_minor": 2
}
