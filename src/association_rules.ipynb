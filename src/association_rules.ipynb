{
 "cells": [
  {
   "cell_type": "code",
   "execution_count": 2,
   "metadata": {},
   "outputs": [],
   "source": [
    "import pandas as pd\n",
    "from data_preprocessing import get_cleaned_data\n",
    "from mlxtend.preprocessing import TransactionEncoder\n",
    "from mlxtend.frequent_patterns import apriori, association_rules\n"
   ]
  },
  {
   "cell_type": "code",
   "execution_count": 4,
   "metadata": {},
   "outputs": [
    {
     "name": "stdout",
     "output_type": "stream",
     "text": [
      "282686\n"
     ]
    }
   ],
   "source": [
    "data = get_cleaned_data()\n",
    "\n",
    "target_value = 0\n",
    "\n",
    "# select only the columns with target = 0\n",
    "data = data[data[\"TARGET\"] == target_value]\n",
    "\n",
    "# convert numbers to categories\n",
    "for col in data.columns:\n",
    "    data[col] = data[col].map({x: col + \"_\" + str(x) for x in data[col].unique()})\n",
    "        \n",
    "print(len(data))\n"
   ]
  },
  {
   "cell_type": "code",
   "execution_count": 5,
   "metadata": {},
   "outputs": [
    {
     "name": "stdout",
     "output_type": "stream",
     "text": [
      "VA NAME_EDUCATION_TYPE_Secondary / secondary special has 198867 rows\n",
      "Dataset created\n"
     ]
    },
    {
     "ename": "MemoryError",
     "evalue": "Unable to allocate 31.7 GiB for an array with shape (198867, 171131) and data type bool",
     "output_type": "error",
     "traceback": [
      "\u001b[1;31m---------------------------------------------------------------------------\u001b[0m",
      "\u001b[1;31mMemoryError\u001b[0m                               Traceback (most recent call last)",
      "Input \u001b[1;32mIn [5]\u001b[0m, in \u001b[0;36m<cell line: 4>\u001b[1;34m()\u001b[0m\n\u001b[0;32m      9\u001b[0m dataset \u001b[38;5;241m=\u001b[39m create_dataset(splitted_data, \u001b[38;5;28;01mNone\u001b[39;00m)\n\u001b[0;32m     10\u001b[0m te \u001b[38;5;241m=\u001b[39m TransactionEncoder()\n\u001b[1;32m---> 11\u001b[0m te_ary \u001b[38;5;241m=\u001b[39m \u001b[43mte\u001b[49m\u001b[38;5;241;43m.\u001b[39;49m\u001b[43mfit\u001b[49m\u001b[43m(\u001b[49m\u001b[43mdataset\u001b[49m\u001b[43m)\u001b[49m\u001b[38;5;241;43m.\u001b[39;49m\u001b[43mtransform\u001b[49m\u001b[43m(\u001b[49m\u001b[43mdataset\u001b[49m\u001b[43m)\u001b[49m\n\u001b[0;32m     12\u001b[0m df \u001b[38;5;241m=\u001b[39m pd\u001b[38;5;241m.\u001b[39mDataFrame(te_ary, columns\u001b[38;5;241m=\u001b[39mte\u001b[38;5;241m.\u001b[39mcolumns_)\n\u001b[0;32m     13\u001b[0m frequent_itemsets \u001b[38;5;241m=\u001b[39m apriori(df, min_support\u001b[38;5;241m=\u001b[39m\u001b[38;5;241m0.6\u001b[39m, use_colnames\u001b[38;5;241m=\u001b[39m\u001b[38;5;28;01mTrue\u001b[39;00m)\n",
      "File \u001b[1;32md:\\Users\\mahme\\anaconda3\\lib\\site-packages\\mlxtend\\preprocessing\\transactionencoder.py:125\u001b[0m, in \u001b[0;36mTransactionEncoder.transform\u001b[1;34m(self, X, sparse)\u001b[0m\n\u001b[0;32m    123\u001b[0m     array \u001b[38;5;241m=\u001b[39m csr_matrix((non_sparse_values, indices, indptr), dtype\u001b[38;5;241m=\u001b[39m\u001b[38;5;28mbool\u001b[39m)\n\u001b[0;32m    124\u001b[0m \u001b[38;5;28;01melse\u001b[39;00m:\n\u001b[1;32m--> 125\u001b[0m     array \u001b[38;5;241m=\u001b[39m \u001b[43mnp\u001b[49m\u001b[38;5;241;43m.\u001b[39;49m\u001b[43mzeros\u001b[49m\u001b[43m(\u001b[49m\u001b[43m(\u001b[49m\u001b[38;5;28;43mlen\u001b[39;49m\u001b[43m(\u001b[49m\u001b[43mX\u001b[49m\u001b[43m)\u001b[49m\u001b[43m,\u001b[49m\u001b[43m \u001b[49m\u001b[38;5;28;43mlen\u001b[39;49m\u001b[43m(\u001b[49m\u001b[38;5;28;43mself\u001b[39;49m\u001b[38;5;241;43m.\u001b[39;49m\u001b[43mcolumns_\u001b[49m\u001b[43m)\u001b[49m\u001b[43m)\u001b[49m\u001b[43m,\u001b[49m\u001b[43m \u001b[49m\u001b[43mdtype\u001b[49m\u001b[38;5;241;43m=\u001b[39;49m\u001b[38;5;28;43mbool\u001b[39;49m\u001b[43m)\u001b[49m\n\u001b[0;32m    126\u001b[0m     \u001b[38;5;28;01mfor\u001b[39;00m row_idx, transaction \u001b[38;5;129;01min\u001b[39;00m \u001b[38;5;28menumerate\u001b[39m(X):\n\u001b[0;32m    127\u001b[0m         \u001b[38;5;28;01mfor\u001b[39;00m item \u001b[38;5;129;01min\u001b[39;00m transaction:\n",
      "\u001b[1;31mMemoryError\u001b[0m: Unable to allocate 31.7 GiB for an array with shape (198867, 171131) and data type bool"
     ]
    }
   ],
   "source": [
    "split_by_col = 'NAME_EDUCATION_TYPE'    \n",
    "unique_values = data[split_by_col].unique()\n",
    "datasets = {}\n",
    "for value in unique_values:\n",
    "    if value == \"NAME_EDUCATION_TYPE_Higher education\":\n",
    "        continue\n",
    "    splitted_data = data[data[split_by_col] == value]\n",
    "    print(f\"VA {value} has {len(splitted_data)} rows\")\n",
    "    dataset = create_dataset(splitted_data, None)\n",
    "    te = TransactionEncoder()\n",
    "    te_ary = te.fit(dataset).transform(dataset)\n",
    "    df = pd.DataFrame(te_ary, columns=te.columns_)\n",
    "    frequent_itemsets = apriori(df, min_support=0.6, use_colnames=True)\n",
    "    print(\"Freq itemsets created\")\n",
    "    frequent_itemsets.to_csv(f\"../data/{value}_frequent_itemsets_{str(target_value)}.csv\")"
   ]
  },
  {
   "cell_type": "code",
   "execution_count": 4,
   "metadata": {},
   "outputs": [],
   "source": [
    "frequent_itemsets = pd.read_csv(f\"../data/TARGET_1_frequent_itemsets_1.csv\")\n",
    "rules = association_rules(frequent_itemsets, metric=\"confidence\", min_threshold=0.7, support_only=True)\n",
    "print(\"Rules created\")"
   ]
  },
  {
   "cell_type": "code",
   "execution_count": null,
   "metadata": {},
   "outputs": [],
   "source": []
  }
 ],
 "metadata": {
  "kernelspec": {
   "display_name": "base",
   "language": "python",
   "name": "python3"
  },
  "language_info": {
   "codemirror_mode": {
    "name": "ipython",
    "version": 3
   },
   "file_extension": ".py",
   "mimetype": "text/x-python",
   "name": "python",
   "nbconvert_exporter": "python",
   "pygments_lexer": "ipython3",
   "version": "3.9.12"
  }
 },
 "nbformat": 4,
 "nbformat_minor": 2
}
