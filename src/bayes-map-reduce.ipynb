{
 "cells": [
  {
   "cell_type": "code",
   "execution_count": 17,
   "metadata": {},
   "outputs": [],
   "source": [
    "import findspark\n",
    "import pandas as pd\n",
    "from data_preprocessing import get_cleaned_data, get_cleaned_data_final\n",
    "findspark.init()\n",
    "from sklearn.datasets import load_iris"
   ]
  },
  {
   "cell_type": "code",
   "execution_count": 2,
   "metadata": {},
   "outputs": [],
   "source": [
    "from pyspark.sql import SparkSession\n",
    "from pyspark.conf import SparkConf\n",
    "spark=SparkSession.builder\\\n",
    "    .master(\"local[*]\")\\\n",
    "    .appName(\"Apriori\")\\\n",
    "    .getOrCreate()"
   ]
  },
  {
   "cell_type": "code",
   "execution_count": 3,
   "metadata": {},
   "outputs": [],
   "source": [
    "sc=spark.sparkContext"
   ]
  },
  {
   "cell_type": "code",
   "execution_count": 21,
   "metadata": {},
   "outputs": [],
   "source": [
    "data = get_cleaned_data_final(convert_categorical=True)"
   ]
  },
  {
   "cell_type": "code",
   "execution_count": 22,
   "metadata": {},
   "outputs": [],
   "source": [
    "data_rdd = spark.createDataFrame(data.head(100_000)).rdd"
   ]
  },
  {
   "cell_type": "code",
   "execution_count": 23,
   "metadata": {},
   "outputs": [],
   "source": [
    "# (key : class label , value : {attribute1 : value1, attribute2 : value2})\n",
    "def mapper(row):\n",
    "\tdict = row.asDict()\n",
    "\tdict['count'] = 1\n",
    "\tresult = {}\n",
    "\tfor k,v in dict.items():\n",
    "\t\tif k != 'TARGET':\n",
    "\t\t\tresult[k] = v\n",
    "\treturn (dict['TARGET'], result)\n",
    "\n",
    "def reducer(old, new):\n",
    "\tfor k,v in new.items():\n",
    "\t\told[k] = old[k] + v\n",
    "\treturn old\n",
    "\n",
    "mean = data_rdd.map(mapper).reduceByKey(reducer).collect()\n"
   ]
  },
  {
   "cell_type": "code",
   "execution_count": 28,
   "metadata": {},
   "outputs": [
    {
     "name": "stdout",
     "output_type": "stream",
     "text": [
      "[(0, {'NAME_CONTRACT_TYPE': 8908, 'CODE_GENDER': 30560, 'FLAG_OWN_CAR': 31265, 'FLAG_OWN_REALTY': 63803, 'AMT_INCOME_TOTAL': 15094005738.300001, 'AMT_CREDIT': 54210647961.0, 'AMT_ANNUITY': 2455231216.0173645, 'NAME_TYPE_SUITE': 479191, 'NAME_INCOME_TYPE': 428339, 'NAME_EDUCATION_TYPE': 292009, 'NAME_FAMILY_STATUS': 134930, 'NAME_HOUSING_TYPE': 117648, 'REGION_POPULATION_RELATIVE': 1915.664856000001, 'DAYS_BIRTH': -1478846158, 'DAYS_EMPLOYED': 5951784104, 'DAYS_REGISTRATION': -458159148.0, 'DAYS_ID_PUBLISH': -276870697, 'FLAG_EMP_PHONE': 75040, 'FLAG_WORK_PHONE': 18117, 'FLAG_CONT_MOBILE': 91655, 'FLAG_PHONE': 25845, 'FLAG_EMAIL': 5148, 'CNT_FAM_MEMBERS': 197789.15266545044, 'REGION_RATING_CLIENT_W_CITY': 186261, 'WEEKDAY_APPR_PROCESS_START': 283139, 'HOUR_APPR_PROCESS_START': 1108727, 'LIVE_REGION_NOT_WORK_REGION': 3590, 'REG_CITY_NOT_LIVE_CITY': 7022, 'LIVE_CITY_NOT_WORK_CITY': 16210, 'ORGANIZATION_TYPE': 2708046, 'EXT_SOURCE_2': 47960.197966215914, 'OBS_60_CNT_SOCIAL_CIRCLE': 128690.01940683216, 'DEF_60_CNT_SOCIAL_CIRCLE': 8729.614976018798, 'DAYS_LAST_PHONE_CHANGE': -89620813.85878834, 'count': 91840}), (1, {'NAME_CONTRACT_TYPE': 534, 'CODE_GENDER': 3512, 'FLAG_OWN_CAR': 2499, 'FLAG_OWN_REALTY': 5622, 'AMT_INCOME_TOTAL': 1288348128.0, 'AMT_CREDIT': 4499641044.0, 'AMT_ANNUITY': 215488831.5, 'NAME_TYPE_SUITE': 42807, 'NAME_INCOME_TYPE': 41637, 'NAME_EDUCATION_TYPE': 28077, 'NAME_FAMILY_STATUS': 11872, 'NAME_HOUSING_TYPE': 11357, 'REGION_POPULATION_RELATIVE': 155.30221399999996, 'DAYS_BIRTH': -121321798, 'DAYS_EMPLOYED': 343004535, 'DAYS_REGISTRATION': -36578033.0, 'DAYS_ID_PUBLISH': -22259902, 'FLAG_EMP_PHONE': 7184, 'FLAG_WORK_PHONE': 1920, 'FLAG_CONT_MOBILE': 8147, 'FLAG_PHONE': 1884, 'FLAG_EMAIL': 443, 'CNT_FAM_MEMBERS': 17768.0, 'REGION_RATING_CLIENT_W_CITY': 17474, 'WEEKDAY_APPR_PROCESS_START': 25373, 'HOUR_APPR_PROCESS_START': 96024, 'LIVE_REGION_NOT_WORK_REGION': 332, 'REG_CITY_NOT_LIVE_CITY': 921, 'LIVE_CITY_NOT_WORK_CITY': 1820, 'ORGANIZATION_TYPE': 223659, 'EXT_SOURCE_2': 3342.3504689071574, 'OBS_60_CNT_SOCIAL_CIRCLE': 12203.052921791901, 'DEF_60_CNT_SOCIAL_CIRCLE': 1162.0004894123788, 'DAYS_LAST_PHONE_CHANGE': -6621464.0, 'count': 8160})]\n",
      "[(0, {'NAME_CONTRACT_TYPE': 0.09699477351916376, 'CODE_GENDER': 0.3327526132404181, 'FLAG_OWN_CAR': 0.3404290069686411, 'FLAG_OWN_REALTY': 0.6947190766550523, 'AMT_INCOME_TOTAL': 164351.1077776568, 'AMT_CREDIT': 590272.7347669861, 'AMT_ANNUITY': 26733.789373011372, 'NAME_TYPE_SUITE': 5.217672038327526, 'NAME_INCOME_TYPE': 4.6639699477351915, 'NAME_EDUCATION_TYPE': 3.179540505226481, 'NAME_FAMILY_STATUS': 1.4691855400696865, 'NAME_HOUSING_TYPE': 1.2810104529616724, 'REGION_POPULATION_RELATIVE': 0.02085872012195123, 'DAYS_BIRTH': -16102.418967770034, 'DAYS_EMPLOYED': 64806.01158536586, 'DAYS_REGISTRATION': -4988.666681184669, 'DAYS_ID_PUBLISH': -3014.7070666376308, 'FLAG_EMP_PHONE': 0.8170731707317073, 'FLAG_WORK_PHONE': 0.19726698606271778, 'FLAG_CONT_MOBILE': 0.9979856271777003, 'FLAG_PHONE': 0.2814133275261324, 'FLAG_EMAIL': 0.056054006968641115, 'CNT_FAM_MEMBERS': 2.1536275333781623, 'REGION_RATING_CLIENT_W_CITY': 2.0281032229965157, 'WEEKDAY_APPR_PROCESS_START': 3.0829594947735193, 'HOUR_APPR_PROCESS_START': 12.072375871080139, 'LIVE_REGION_NOT_WORK_REGION': 0.0390897212543554, 'REG_CITY_NOT_LIVE_CITY': 0.07645905923344948, 'LIVE_CITY_NOT_WORK_CITY': 0.1765026132404181, 'ORGANIZATION_TYPE': 29.486563588850174, 'EXT_SOURCE_2': 0.5222146991094938, 'OBS_60_CNT_SOCIAL_CIRCLE': 1.4012415005099321, 'DEF_60_CNT_SOCIAL_CIRCLE': 0.09505242787476914, 'DAYS_LAST_PHONE_CHANGE': -975.836387835239, 'count': 1.0}), (1, {'NAME_CONTRACT_TYPE': 0.06544117647058824, 'CODE_GENDER': 0.4303921568627451, 'FLAG_OWN_CAR': 0.30625, 'FLAG_OWN_REALTY': 0.6889705882352941, 'AMT_INCOME_TOTAL': 157885.8, 'AMT_CREDIT': 551426.5985294117, 'AMT_ANNUITY': 26407.945036764704, 'NAME_TYPE_SUITE': 5.245955882352941, 'NAME_INCOME_TYPE': 5.102573529411765, 'NAME_EDUCATION_TYPE': 3.440808823529412, 'NAME_FAMILY_STATUS': 1.4549019607843137, 'NAME_HOUSING_TYPE': 1.3917892156862746, 'REGION_POPULATION_RELATIVE': 0.019032134068627447, 'DAYS_BIRTH': -14867.867401960784, 'DAYS_EMPLOYED': 42034.86948529412, 'DAYS_REGISTRATION': -4482.602083333333, 'DAYS_ID_PUBLISH': -2727.929166666667, 'FLAG_EMP_PHONE': 0.8803921568627451, 'FLAG_WORK_PHONE': 0.23529411764705882, 'FLAG_CONT_MOBILE': 0.998406862745098, 'FLAG_PHONE': 0.23088235294117648, 'FLAG_EMAIL': 0.05428921568627451, 'CNT_FAM_MEMBERS': 2.1774509803921567, 'REGION_RATING_CLIENT_W_CITY': 2.141421568627451, 'WEEKDAY_APPR_PROCESS_START': 3.109436274509804, 'HOUR_APPR_PROCESS_START': 11.76764705882353, 'LIVE_REGION_NOT_WORK_REGION': 0.04068627450980392, 'REG_CITY_NOT_LIVE_CITY': 0.11286764705882353, 'LIVE_CITY_NOT_WORK_CITY': 0.22303921568627452, 'ORGANIZATION_TYPE': 27.40919117647059, 'EXT_SOURCE_2': 0.4096017731503869, 'OBS_60_CNT_SOCIAL_CIRCLE': 1.4954721717882231, 'DEF_60_CNT_SOCIAL_CIRCLE': 0.14240202076132094, 'DAYS_LAST_PHONE_CHANGE': -811.4539215686275, 'count': 1.0})]\n"
     ]
    }
   ],
   "source": [
    "print(mean)\n",
    "for r in mean:\n",
    "\tfor k,v in r[1].items():\n",
    "\t\tr[1][k] = v / r[1]['count']\n",
    "print(mean)"
   ]
  },
  {
   "cell_type": "code",
   "execution_count": null,
   "metadata": {},
   "outputs": [],
   "source": []
  }
 ],
 "metadata": {
  "kernelspec": {
   "display_name": "base",
   "language": "python",
   "name": "python3"
  },
  "language_info": {
   "codemirror_mode": {
    "name": "ipython",
    "version": 3
   },
   "file_extension": ".py",
   "mimetype": "text/x-python",
   "name": "python",
   "nbconvert_exporter": "python",
   "pygments_lexer": "ipython3",
   "version": "3.9.12"
  }
 },
 "nbformat": 4,
 "nbformat_minor": 2
}
