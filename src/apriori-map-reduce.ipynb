{
 "cells": [
  {
   "cell_type": "code",
   "execution_count": 1,
   "id": "b361b3e4-b7e9-40d0-ae0e-b183f9bd403a",
   "metadata": {},
   "outputs": [],
   "source": [
    "import findspark\n",
    "from data_preprocessing import get_cleaned_data\n",
    "findspark.init()"
   ]
  },
  {
   "cell_type": "code",
   "execution_count": 2,
   "id": "e1314732-e910-4440-9d60-40ff8dc6824c",
   "metadata": {},
   "outputs": [],
   "source": [
    "from pyspark.sql import SparkSession\n",
    "from pyspark.conf import SparkConf\n",
    "spark=SparkSession.builder\\\n",
    "    .master(\"local[*]\")\\\n",
    "    .appName(\"Apriori\")\\\n",
    "    .getOrCreate()"
   ]
  },
  {
   "cell_type": "code",
   "execution_count": 3,
   "id": "a859a6b0-ee02-44df-85df-65664e9d13bf",
   "metadata": {},
   "outputs": [],
   "source": [
    "sc=spark.sparkContext"
   ]
  },
  {
   "cell_type": "code",
   "execution_count": 4,
   "id": "d75334fd-fb99-4aa1-b272-e7f8bc532b06",
   "metadata": {},
   "outputs": [],
   "source": [
    "data = get_cleaned_data()\n",
    "\n",
    "target_value = 0\n",
    "\n",
    "# select only the columns with target = 0\n",
    "data = data[data[\"TARGET\"] == target_value]\n",
    "\n",
    "# convert numbers to categories\n",
    "for col in data.columns:\n",
    "    data[col] = data[col].map({x: col + \"_\" + str(x) for x in data[col].unique()})\n",
    "\n",
    "df = spark.createDataFrame(data)"
   ]
  },
  {
   "cell_type": "code",
   "execution_count": 5,
   "id": "6746e5ae-53c1-4645-b466-f50774052fee",
   "metadata": {},
   "outputs": [],
   "source": [
    "rdd = df.rdd"
   ]
  },
  {
   "cell_type": "code",
   "execution_count": 6,
   "id": "4f82fc44-7cf2-42e6-a327-bb24f6d9812e",
   "metadata": {},
   "outputs": [],
   "source": [
    "def create_C1(dataset):\n",
    "    # Create a list of candidate item sets of size 1\n",
    "    C1 = []\n",
    "    for transaction in dataset:\n",
    "        for item in transaction:\n",
    "            if not [item] in C1:\n",
    "                C1.append([item])\n",
    "    return list(map(frozenset, C1))\n",
    "\n",
    "def scan_dataset(dataset, candidates, min_support):\n",
    "    # Count the occurrence of each candidate item set in the dataset\n",
    "    item_count = {}\n",
    "                    \n",
    "    for candidate in candidates:\n",
    "        rdd2 = rdd.map(lambda x: candidate.issubset(list(x)))\n",
    "        item_count[candidate] = rdd2.count()\n",
    "        \n",
    "    num_items = float(len(dataset))\n",
    "    frequent_items = []\n",
    "    support_data = {}\n",
    "    # Calculate support and filter out candidates below min_support\n",
    "    for item, count in item_count.items():\n",
    "        support = count / num_items\n",
    "        if support >= min_support:\n",
    "            frequent_items.insert(0, item)\n",
    "            support_data[item] = support\n",
    "    return frequent_items, support_data\n",
    "\n",
    "def apriori_gen(freq_sets, k):\n",
    "    # Generate candidate item sets of size k\n",
    "    candidates = []\n",
    "    len_freq_sets = len(freq_sets)\n",
    "    for i in range(len_freq_sets):\n",
    "        for j in range(i + 1, len_freq_sets):\n",
    "            L1 = list(freq_sets[i])[:k - 2]\n",
    "            L2 = list(freq_sets[j])[:k - 2]\n",
    "            L1.sort()\n",
    "            L2.sort()\n",
    "            if L1 == L2:\n",
    "                candidates.append(freq_sets[i] | freq_sets[j])\n",
    "    return candidates\n",
    "\n",
    "def my_apriori(dataset, min_support=0.5, max_iterations=2):\n",
    "    C1 = create_C1(dataset)\n",
    "    D = list(map(set, dataset))\n",
    "    k = 2\n",
    "    L1, support_data = scan_dataset(D, C1, min_support)\n",
    "    L = [L1]\n",
    "    while len(L[k - 2]) > 0 and max_iterations > 0:\n",
    "        candidates = apriori_gen(L[k - 2], k)\n",
    "        print(f\"Scanning dataset For C{k - 2}\")\n",
    "        Lk, supK = scan_dataset(D, candidates, min_support)\n",
    "        support_data.update(supK)\n",
    "        L.append(Lk)\n",
    "        k += 1\n",
    "        max_iterations -= 1\n",
    "    return L, support_data"
   ]
  },
  {
   "cell_type": "code",
   "execution_count": 7,
   "id": "d65ed46e-fd29-4d83-bb93-040b4041e6f3",
   "metadata": {},
   "outputs": [
    {
     "name": "stdout",
     "output_type": "stream",
     "text": [
      "Dataset created\n",
      "Dataset Created\n"
     ]
    }
   ],
   "source": [
    "def create_dataset(data, num=None):\n",
    "    dataset = []\n",
    "    if num is None:\n",
    "        num = len(data)\n",
    "    for i in range(0, num):\n",
    "        dataset.append(list(map(str, data.iloc[i].values.tolist())))\n",
    "    print(\"Dataset created\")\n",
    "    return dataset\n",
    "dataset = create_dataset(data, 1000)\n",
    "print(\"Dataset Created\")\n",
    "# print(dataset)\n",
    "max_iterations = 100\n",
    "L, support_data = my_apriori(dataset, min_support=0.5, max_iterations=max_iterations)\n",
    "print(f\"Frequent Item Sets: {len(L)}\")\n",
    "# print(L)\n",
    "print(f\"Support Data: {len(support_data)}\")\n",
    "# print(support_data)\n",
    "file = open(f'../data/support_data'+ str(max_iterations) +'.txt','w')\n",
    "for item, val in support_data.items():\n",
    "\tfile.write(str(item) + \" : \" + str(val) + \"\\n\")\n",
    "file.close()"
   ]
  },
  {
   "cell_type": "code",
   "execution_count": null,
   "id": "bd99d2cd-eec5-48ec-ae84-40e907731961",
   "metadata": {},
   "outputs": [],
   "source": []
  }
 ],
 "metadata": {
  "kernelspec": {
   "display_name": "Python 3 (ipykernel)",
   "language": "python",
   "name": "python3"
  },
  "language_info": {
   "codemirror_mode": {
    "name": "ipython",
    "version": 3
   },
   "file_extension": ".py",
   "mimetype": "text/x-python",
   "name": "python",
   "nbconvert_exporter": "python",
   "pygments_lexer": "ipython3",
   "version": "3.9.12"
  }
 },
 "nbformat": 4,
 "nbformat_minor": 5
}
